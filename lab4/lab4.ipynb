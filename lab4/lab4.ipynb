{
 "cells": [
  {
   "cell_type": "code",
   "execution_count": 1,
   "metadata": {
    "id": "HfN8wOFEBz3x"
   },
   "outputs": [
    {
     "name": "stderr",
     "output_type": "stream",
     "text": [
      "/Users/lina/Documents/University Shit/Master/sem_2/ML/.venv/lib/python3.7/site-packages/gensim/similarities/__init__.py:15: UserWarning: The gensim.similarities.levenshtein submodule is disabled, because the optional Levenshtein package <https://pypi.org/project/python-Levenshtein/> is unavailable. Install Levenhstein (e.g. `pip install python-Levenshtein`) to suppress this warning.\n",
      "  warnings.warn(msg)\n"
     ]
    }
   ],
   "source": [
    "import numpy as np \n",
    "import pandas as pd \n",
    "import seaborn as sns\n",
    "import matplotlib.pyplot as plt \n",
    "import seaborn as sns\n",
    "import warnings\n",
    "import os\n",
    "from tqdm import tqdm\n",
    "from gensim.models import Word2Vec \n",
    "import random\n",
    "from surprise.accuracy import rmse\n",
    "from sklearn.metrics.pairwise import cosine_similarity, euclidean_distances, manhattan_distances\n",
    "from sklearn.feature_extraction.text import CountVectorizer, TfidfVectorizer\n",
    "warnings.filterwarnings(\"ignore\")\n",
    "%matplotlib inline\n",
    "sns.set(style=\"ticks\")"
   ]
  },
  {
   "cell_type": "code",
   "execution_count": 2,
   "metadata": {
    "id": "rQu2vRZqDXoi"
   },
   "outputs": [],
   "source": [
    "users = pd.read_csv('BX-Users.csv', \n",
    "                    error_bad_lines=False, delimiter=';')"
   ]
  },
  {
   "cell_type": "code",
   "execution_count": 3,
   "metadata": {
    "colab": {
     "base_uri": "https://localhost:8080/"
    },
    "id": "c8i6gS2QDnng",
    "outputId": "85d43ca9-1aa1-4318-a620-3b8e1e0de528"
   },
   "outputs": [
    {
     "name": "stderr",
     "output_type": "stream",
     "text": [
      "b'Skipping line 6452: expected 8 fields, saw 9\\nSkipping line 43667: expected 8 fields, saw 10\\nSkipping line 51751: expected 8 fields, saw 9\\n'\n",
      "b'Skipping line 92038: expected 8 fields, saw 9\\nSkipping line 104319: expected 8 fields, saw 9\\nSkipping line 121768: expected 8 fields, saw 9\\n'\n",
      "b'Skipping line 144058: expected 8 fields, saw 9\\nSkipping line 150789: expected 8 fields, saw 9\\nSkipping line 157128: expected 8 fields, saw 9\\nSkipping line 180189: expected 8 fields, saw 9\\nSkipping line 185738: expected 8 fields, saw 9\\n'\n",
      "b'Skipping line 209388: expected 8 fields, saw 9\\nSkipping line 220626: expected 8 fields, saw 9\\nSkipping line 227933: expected 8 fields, saw 11\\nSkipping line 228957: expected 8 fields, saw 10\\nSkipping line 245933: expected 8 fields, saw 9\\nSkipping line 251296: expected 8 fields, saw 9\\nSkipping line 259941: expected 8 fields, saw 9\\nSkipping line 261529: expected 8 fields, saw 9\\n'\n"
     ]
    }
   ],
   "source": [
    "books = pd.read_csv('BX-Books.csv', \n",
    "                    error_bad_lines=False, delimiter=';')"
   ]
  },
  {
   "cell_type": "code",
   "execution_count": 4,
   "metadata": {
    "id": "Z7sbUtuTE1gM"
   },
   "outputs": [],
   "source": [
    "ratings = pd.read_csv('BX-Book-Ratings.csv', \n",
    "                    error_bad_lines=False, delimiter=';', \n",
    "                    encoding = 'ISO-8859-1')"
   ]
  },
  {
   "cell_type": "code",
   "execution_count": 5,
   "metadata": {
    "colab": {
     "base_uri": "https://localhost:8080/"
    },
    "id": "_mIMGwcUFO3c",
    "outputId": "241fbe7d-8a74-4c42-8dda-66ef0cab7358"
   },
   "outputs": [
    {
     "name": "stdout",
     "output_type": "stream",
     "text": [
      "USERS:  (278858, 3) Index(['User-ID', 'Location', 'Age'], dtype='object')\n",
      "BOOKS:  (271360, 8) Index(['ISBN', 'Book-Title', 'Book-Author', 'Year-Of-Publication', 'Publisher',\n",
      "       'Image-URL-S', 'Image-URL-M', 'Image-URL-L'],\n",
      "      dtype='object')\n",
      "RATINGS:  (1149780, 3) Index(['User-ID', 'ISBN', 'Book-Rating'], dtype='object')\n"
     ]
    }
   ],
   "source": [
    "print(\"USERS: \", users.shape, users.columns)\n",
    "print(\"BOOKS: \", books.shape, books.columns)\n",
    "print(\"RATINGS: \", ratings.shape, ratings.columns)"
   ]
  },
  {
   "cell_type": "code",
   "execution_count": 6,
   "metadata": {
    "colab": {
     "base_uri": "https://localhost:8080/"
    },
    "id": "chzmCZW8F0DR",
    "outputId": "d5cff971-f487-4668-ca53-c78841a0165f"
   },
   "outputs": [
    {
     "name": "stdout",
     "output_type": "stream",
     "text": [
      "ALL DATA (1031136, 12) Index(['User-ID', 'ISBN', 'Book-Rating', 'Location', 'Age', 'Book-Title',\n",
      "       'Book-Author', 'Year-Of-Publication', 'Publisher', 'Image-URL-S',\n",
      "       'Image-URL-M', 'Image-URL-L'],\n",
      "      dtype='object')\n"
     ]
    }
   ],
   "source": [
    "data = pd.merge(ratings, users, on='User-ID', how='inner')\n",
    "data = pd.merge(data, books, on='ISBN', how='inner')\n",
    "print(\"ALL DATA\", data.shape, data.columns)"
   ]
  },
  {
   "cell_type": "code",
   "execution_count": 7,
   "metadata": {
    "colab": {
     "base_uri": "https://localhost:8080/",
     "height": 499
    },
    "id": "Xvk-hrk0GIjI",
    "outputId": "0231603b-f2d7-4778-aba1-6607c42973c2"
   },
   "outputs": [
    {
     "data": {
      "text/html": [
       "<div>\n",
       "<style scoped>\n",
       "    .dataframe tbody tr th:only-of-type {\n",
       "        vertical-align: middle;\n",
       "    }\n",
       "\n",
       "    .dataframe tbody tr th {\n",
       "        vertical-align: top;\n",
       "    }\n",
       "\n",
       "    .dataframe thead th {\n",
       "        text-align: right;\n",
       "    }\n",
       "</style>\n",
       "<table border=\"1\" class=\"dataframe\">\n",
       "  <thead>\n",
       "    <tr style=\"text-align: right;\">\n",
       "      <th></th>\n",
       "      <th>User-ID</th>\n",
       "      <th>ISBN</th>\n",
       "      <th>Book-Rating</th>\n",
       "      <th>Location</th>\n",
       "      <th>Age</th>\n",
       "      <th>Book-Title</th>\n",
       "      <th>Book-Author</th>\n",
       "      <th>Year-Of-Publication</th>\n",
       "      <th>Publisher</th>\n",
       "      <th>Image-URL-S</th>\n",
       "      <th>Image-URL-M</th>\n",
       "      <th>Image-URL-L</th>\n",
       "    </tr>\n",
       "  </thead>\n",
       "  <tbody>\n",
       "    <tr>\n",
       "      <th>0</th>\n",
       "      <td>276725</td>\n",
       "      <td>034545104X</td>\n",
       "      <td>0</td>\n",
       "      <td>tyler, texas, usa</td>\n",
       "      <td>NaN</td>\n",
       "      <td>Flesh Tones: A Novel</td>\n",
       "      <td>M. J. Rose</td>\n",
       "      <td>2002</td>\n",
       "      <td>Ballantine Books</td>\n",
       "      <td>http://images.amazon.com/images/P/034545104X.0...</td>\n",
       "      <td>http://images.amazon.com/images/P/034545104X.0...</td>\n",
       "      <td>http://images.amazon.com/images/P/034545104X.0...</td>\n",
       "    </tr>\n",
       "    <tr>\n",
       "      <th>1</th>\n",
       "      <td>2313</td>\n",
       "      <td>034545104X</td>\n",
       "      <td>5</td>\n",
       "      <td>cincinnati, ohio, usa</td>\n",
       "      <td>23.0</td>\n",
       "      <td>Flesh Tones: A Novel</td>\n",
       "      <td>M. J. Rose</td>\n",
       "      <td>2002</td>\n",
       "      <td>Ballantine Books</td>\n",
       "      <td>http://images.amazon.com/images/P/034545104X.0...</td>\n",
       "      <td>http://images.amazon.com/images/P/034545104X.0...</td>\n",
       "      <td>http://images.amazon.com/images/P/034545104X.0...</td>\n",
       "    </tr>\n",
       "    <tr>\n",
       "      <th>2</th>\n",
       "      <td>6543</td>\n",
       "      <td>034545104X</td>\n",
       "      <td>0</td>\n",
       "      <td>strafford, missouri, usa</td>\n",
       "      <td>34.0</td>\n",
       "      <td>Flesh Tones: A Novel</td>\n",
       "      <td>M. J. Rose</td>\n",
       "      <td>2002</td>\n",
       "      <td>Ballantine Books</td>\n",
       "      <td>http://images.amazon.com/images/P/034545104X.0...</td>\n",
       "      <td>http://images.amazon.com/images/P/034545104X.0...</td>\n",
       "      <td>http://images.amazon.com/images/P/034545104X.0...</td>\n",
       "    </tr>\n",
       "    <tr>\n",
       "      <th>3</th>\n",
       "      <td>8680</td>\n",
       "      <td>034545104X</td>\n",
       "      <td>5</td>\n",
       "      <td>st. charles county, missouri, usa</td>\n",
       "      <td>2.0</td>\n",
       "      <td>Flesh Tones: A Novel</td>\n",
       "      <td>M. J. Rose</td>\n",
       "      <td>2002</td>\n",
       "      <td>Ballantine Books</td>\n",
       "      <td>http://images.amazon.com/images/P/034545104X.0...</td>\n",
       "      <td>http://images.amazon.com/images/P/034545104X.0...</td>\n",
       "      <td>http://images.amazon.com/images/P/034545104X.0...</td>\n",
       "    </tr>\n",
       "    <tr>\n",
       "      <th>4</th>\n",
       "      <td>10314</td>\n",
       "      <td>034545104X</td>\n",
       "      <td>9</td>\n",
       "      <td>beaverton, oregon, usa</td>\n",
       "      <td>NaN</td>\n",
       "      <td>Flesh Tones: A Novel</td>\n",
       "      <td>M. J. Rose</td>\n",
       "      <td>2002</td>\n",
       "      <td>Ballantine Books</td>\n",
       "      <td>http://images.amazon.com/images/P/034545104X.0...</td>\n",
       "      <td>http://images.amazon.com/images/P/034545104X.0...</td>\n",
       "      <td>http://images.amazon.com/images/P/034545104X.0...</td>\n",
       "    </tr>\n",
       "  </tbody>\n",
       "</table>\n",
       "</div>"
      ],
      "text/plain": [
       "   User-ID        ISBN  Book-Rating                           Location   Age  \\\n",
       "0   276725  034545104X            0                  tyler, texas, usa   NaN   \n",
       "1     2313  034545104X            5              cincinnati, ohio, usa  23.0   \n",
       "2     6543  034545104X            0           strafford, missouri, usa  34.0   \n",
       "3     8680  034545104X            5  st. charles county, missouri, usa   2.0   \n",
       "4    10314  034545104X            9             beaverton, oregon, usa   NaN   \n",
       "\n",
       "             Book-Title Book-Author Year-Of-Publication         Publisher  \\\n",
       "0  Flesh Tones: A Novel  M. J. Rose                2002  Ballantine Books   \n",
       "1  Flesh Tones: A Novel  M. J. Rose                2002  Ballantine Books   \n",
       "2  Flesh Tones: A Novel  M. J. Rose                2002  Ballantine Books   \n",
       "3  Flesh Tones: A Novel  M. J. Rose                2002  Ballantine Books   \n",
       "4  Flesh Tones: A Novel  M. J. Rose                2002  Ballantine Books   \n",
       "\n",
       "                                         Image-URL-S  \\\n",
       "0  http://images.amazon.com/images/P/034545104X.0...   \n",
       "1  http://images.amazon.com/images/P/034545104X.0...   \n",
       "2  http://images.amazon.com/images/P/034545104X.0...   \n",
       "3  http://images.amazon.com/images/P/034545104X.0...   \n",
       "4  http://images.amazon.com/images/P/034545104X.0...   \n",
       "\n",
       "                                         Image-URL-M  \\\n",
       "0  http://images.amazon.com/images/P/034545104X.0...   \n",
       "1  http://images.amazon.com/images/P/034545104X.0...   \n",
       "2  http://images.amazon.com/images/P/034545104X.0...   \n",
       "3  http://images.amazon.com/images/P/034545104X.0...   \n",
       "4  http://images.amazon.com/images/P/034545104X.0...   \n",
       "\n",
       "                                         Image-URL-L  \n",
       "0  http://images.amazon.com/images/P/034545104X.0...  \n",
       "1  http://images.amazon.com/images/P/034545104X.0...  \n",
       "2  http://images.amazon.com/images/P/034545104X.0...  \n",
       "3  http://images.amazon.com/images/P/034545104X.0...  \n",
       "4  http://images.amazon.com/images/P/034545104X.0...  "
      ]
     },
     "execution_count": 7,
     "metadata": {},
     "output_type": "execute_result"
    }
   ],
   "source": [
    "data.head()"
   ]
  },
  {
   "cell_type": "code",
   "execution_count": 8,
   "metadata": {
    "colab": {
     "base_uri": "https://localhost:8080/"
    },
    "id": "X4LVSi4WGbxg",
    "outputId": "011c952b-d546-4283-a966-583fc7adb331"
   },
   "outputs": [
    {
     "name": "stdout",
     "output_type": "stream",
     "text": [
      "<class 'pandas.core.frame.DataFrame'>\n",
      "Int64Index: 1031136 entries, 0 to 1031135\n",
      "Data columns (total 12 columns):\n",
      " #   Column               Non-Null Count    Dtype  \n",
      "---  ------               --------------    -----  \n",
      " 0   User-ID              1031136 non-null  int64  \n",
      " 1   ISBN                 1031136 non-null  object \n",
      " 2   Book-Rating          1031136 non-null  int64  \n",
      " 3   Location             1031136 non-null  object \n",
      " 4   Age                  753301 non-null   float64\n",
      " 5   Book-Title           1031136 non-null  object \n",
      " 6   Book-Author          1031135 non-null  object \n",
      " 7   Year-Of-Publication  1031136 non-null  object \n",
      " 8   Publisher            1031134 non-null  object \n",
      " 9   Image-URL-S          1031136 non-null  object \n",
      " 10  Image-URL-M          1031136 non-null  object \n",
      " 11  Image-URL-L          1031132 non-null  object \n",
      "dtypes: float64(1), int64(2), object(9)\n",
      "memory usage: 102.3+ MB\n"
     ]
    }
   ],
   "source": [
    "data.info()"
   ]
  },
  {
   "cell_type": "code",
   "execution_count": 9,
   "metadata": {
    "colab": {
     "base_uri": "https://localhost:8080/"
    },
    "id": "m2KyDHFAGeTw",
    "outputId": "61f46c15-6495-4433-defc-98eb2340f4f9"
   },
   "outputs": [
    {
     "name": "stdout",
     "output_type": "stream",
     "text": [
      "Number of books:  270151\n",
      "Number of users:  92106\n"
     ]
    }
   ],
   "source": [
    "print('Number of books: ', data['ISBN'].nunique())\n",
    "print('Number of users: ',data['User-ID'].nunique())"
   ]
  },
  {
   "cell_type": "code",
   "execution_count": 10,
   "metadata": {
    "id": "krbLsj3XGsOX"
   },
   "outputs": [],
   "source": [
    "median = data[\"Age\"].median()\n",
    "std = data[\"Age\"].std()\n",
    "is_null = data[\"Age\"].isnull().sum()\n",
    "rand_age = np.random.randint(median - std, median + std, size = is_null)\n",
    "age_slice = data[\"Age\"].copy()\n",
    "age_slice[pd.isnull(age_slice)] = rand_age\n",
    "data[\"Age\"] = age_slice\n",
    "data[\"Age\"] = data[\"Age\"].astype(int)"
   ]
  },
  {
   "cell_type": "code",
   "execution_count": 11,
   "metadata": {
    "id": "ttQADk4OHJT9"
   },
   "outputs": [],
   "source": [
    "data['Book-Rating'] = data['Book-Rating'].replace(0, None)"
   ]
  },
  {
   "cell_type": "code",
   "execution_count": 12,
   "metadata": {
    "id": "P9TY18dMHKa9"
   },
   "outputs": [],
   "source": [
    "data[['Book-Author', 'Publisher']] = data[['Book-Author', 'Publisher']].fillna('Unknown')"
   ]
  },
  {
   "cell_type": "code",
   "execution_count": 13,
   "metadata": {
    "id": "xWacndqYIZ00"
   },
   "outputs": [],
   "source": [
    "data = data.dropna(axis=0, how='any')\n",
    "data = data.drop(['Image-URL-S', 'Image-URL-M', 'Image-URL-L'], axis=1)"
   ]
  },
  {
   "cell_type": "code",
   "execution_count": 14,
   "metadata": {
    "colab": {
     "base_uri": "https://localhost:8080/"
    },
    "id": "4OkmsUuUHZmc",
    "outputId": "58929aed-967a-44d3-c863-c5be4d6a2a19"
   },
   "outputs": [
    {
     "data": {
      "text/plain": [
       "User-ID                0\n",
       "ISBN                   0\n",
       "Book-Rating            0\n",
       "Location               0\n",
       "Age                    0\n",
       "Book-Title             0\n",
       "Book-Author            0\n",
       "Year-Of-Publication    0\n",
       "Publisher              0\n",
       "dtype: int64"
      ]
     },
     "execution_count": 14,
     "metadata": {},
     "output_type": "execute_result"
    }
   ],
   "source": [
    "data.isnull().sum()"
   ]
  },
  {
   "cell_type": "code",
   "execution_count": 15,
   "metadata": {
    "colab": {
     "base_uri": "https://localhost:8080/"
    },
    "id": "aH4kPQz5IiQ1",
    "outputId": "51a3fc5c-6a02-455a-8902-254a62532f7a"
   },
   "outputs": [
    {
     "data": {
      "text/plain": [
       "0     usa\n",
       "1     usa\n",
       "2     usa\n",
       "3     usa\n",
       "4     usa\n",
       "Name: Country, dtype: object"
      ]
     },
     "execution_count": 15,
     "metadata": {},
     "output_type": "execute_result"
    }
   ],
   "source": [
    "data['Country'] = data['Location'].apply(lambda row: str(row).split(',')[-1])\n",
    "data = data.drop('Location', axis=1)\n",
    "data['Country'].head()"
   ]
  },
  {
   "cell_type": "code",
   "execution_count": 16,
   "metadata": {
    "id": "VFcnctOtJt6-"
   },
   "outputs": [],
   "source": [
    "data['Year-Of-Publication'] = pd.to_numeric(data['Year-Of-Publication'])"
   ]
  },
  {
   "cell_type": "code",
   "execution_count": 17,
   "metadata": {
    "id": "CtkI-33Xd8qj"
   },
   "outputs": [],
   "source": [
    "df = data"
   ]
  },
  {
   "cell_type": "code",
   "execution_count": 18,
   "metadata": {
    "colab": {
     "base_uri": "https://localhost:8080/"
    },
    "id": "pPHVH0vge0Pj",
    "outputId": "58cc8ef1-e7fb-4505-944a-d76f4f115305"
   },
   "outputs": [
    {
     "data": {
      "text/plain": [
       "count    228988.000000\n",
       "mean          3.728409\n",
       "std          12.416574\n",
       "min           1.000000\n",
       "25%           1.000000\n",
       "50%           1.000000\n",
       "75%           3.000000\n",
       "max        1206.000000\n",
       "Name: User-ID, dtype: float64"
      ]
     },
     "execution_count": 18,
     "metadata": {},
     "output_type": "execute_result"
    }
   ],
   "source": [
    "df = df[df['Book-Rating'] >= 6]\n",
    "df.groupby('ISBN')['User-ID'].count().describe()"
   ]
  },
  {
   "cell_type": "code",
   "execution_count": 19,
   "metadata": {
    "id": "UVHBRLUPfWaG"
   },
   "outputs": [],
   "source": [
    "title = df['Book-Title'].values\n",
    "author = df['Book-Author'].values\n",
    "publisher = df['Publisher'].values\n",
    "ISBN = df['ISBN'].values\n",
    "rating = df['Book-Rating'].values"
   ]
  },
  {
   "cell_type": "code",
   "execution_count": 20,
   "metadata": {
    "colab": {
     "base_uri": "https://localhost:8080/"
    },
    "id": "NCjw1QacJPjX",
    "outputId": "a2035954-08e3-4751-b1be-4c9506a7fbbb"
   },
   "outputs": [
    {
     "name": "stdout",
     "output_type": "stream",
     "text": [
      "CPU times: user 15 s, sys: 284 ms, total: 15.2 s\n",
      "Wall time: 15.3 s\n"
     ]
    }
   ],
   "source": [
    "%%time\n",
    "tfidfv = TfidfVectorizer()\n",
    "title_matrix = tfidfv.fit_transform(title)\n",
    "author_matrix = tfidfv.fit_transform(author)\n",
    "publisher_matrix = tfidfv.fit_transform(publisher)\n",
    "ISBN_matrix = tfidfv.fit_transform(ISBN)"
   ]
  },
  {
   "cell_type": "markdown",
   "metadata": {
    "id": "QDzT6oIRigSo"
   },
   "source": [
    "Фильтрация на основе содержания"
   ]
  },
  {
   "cell_type": "code",
   "execution_count": 21,
   "metadata": {
    "id": "YROZExBDJmbh"
   },
   "outputs": [],
   "source": [
    " class SimpleKNNRecommender:\n",
    "    \n",
    "    def __init__(self, X_matrix, X_ids, X_title, X_overview):\n",
    "        \"\"\"\n",
    "        Входные параметры:\n",
    "        X_matrix - обучающая выборка (матрица объект-признак)\n",
    "        X_ids - массив идентификаторов объектов\n",
    "        X_title - массив названий объектов\n",
    "        X_overview - массив описаний объектов\n",
    "        \"\"\"\n",
    "        #Сохраняем параметры в переменных объекта\n",
    "        self._X_matrix = X_matrix\n",
    "        self.df = pd.DataFrame(\n",
    "            {'id': pd.Series(X_ids, dtype='int'),\n",
    "            'title': pd.Series(X_title, dtype='str'),\n",
    "            'overview': pd.Series(X_overview, dtype='str'),\n",
    "            'dist': pd.Series([], dtype='float')})\n",
    "            \n",
    "            \n",
    "    def recommend_for_single_object(self, K: int, \\\n",
    "                X_matrix_object, cos_flag = True, manh_flag = False):\n",
    "        \"\"\"\n",
    "        Метод формирования рекомендаций для одного объекта.\n",
    "        Входные параметры:\n",
    "        K - количество рекомендуемых соседей \n",
    "        X_matrix_object - строка матрицы объект-признак, соответствующая объекту\n",
    "        cos_flag - флаг вычисления косинусного расстояния\n",
    "        manh_flag - флаг вычисления манхэттэнского расстояния\n",
    "        Возвращаемое значение: K найденных соседей\n",
    "        \"\"\"\n",
    "        \n",
    "        scale = 1000000\n",
    "        # Вычисляем косинусную близость\n",
    "        if cos_flag:\n",
    "            dist = cosine_similarity(self._X_matrix, X_matrix_object)\n",
    "            self.df['dist'] = dist * scale\n",
    "            res = self.df.sort_values(by='dist', ascending=False)\n",
    "            # Не учитываем рекомендации с единичным расстоянием,\n",
    "            # так как это искомый объект\n",
    "            res = res[res['dist'] < scale]\n",
    "        \n",
    "        else:\n",
    "            if manh_flag:\n",
    "                dist = manhattan_distances(self._X_matrix, X_matrix_object)\n",
    "            else:\n",
    "                dist = euclidean_distances(self._X_matrix, X_matrix_object)\n",
    "            self.df['dist'] = dist * scale\n",
    "            res = self.df.sort_values(by='dist', ascending=True)\n",
    "            # Не учитываем рекомендации с единичным расстоянием,\n",
    "            # так как это искомый объект\n",
    "            res = res[res['dist'] > 0.0]            \n",
    "        \n",
    "        # Оставляем К первых рекомендаций\n",
    "        res = res.head(K)\n",
    "        return res"
   ]
  },
  {
   "cell_type": "code",
   "execution_count": 22,
   "metadata": {
    "colab": {
     "base_uri": "https://localhost:8080/",
     "height": 35
    },
    "id": "QQTKIp6khFBq",
    "outputId": "222533ad-cbad-46cd-9ce6-5bd44b90c7f7"
   },
   "outputs": [
    {
     "data": {
      "text/plain": [
       "'Nicholas Sparks'"
      ]
     },
     "execution_count": 22,
     "metadata": {},
     "output_type": "execute_result"
    }
   ],
   "source": [
    "author_ind = 54\n",
    "author[author_ind]"
   ]
  },
  {
   "cell_type": "code",
   "execution_count": 23,
   "metadata": {
    "id": "88LqTt3PhV7Y"
   },
   "outputs": [],
   "source": [
    "sparks_matrix = author_matrix[author_ind]"
   ]
  },
  {
   "cell_type": "code",
   "execution_count": 24,
   "metadata": {
    "colab": {
     "base_uri": "https://localhost:8080/",
     "height": 509
    },
    "id": "TLzobw-wgIDv",
    "outputId": "4cd2ba6a-a230-40a7-d65f-0e87b173e579"
   },
   "outputs": [
    {
     "data": {
      "text/html": [
       "<div>\n",
       "<style scoped>\n",
       "    .dataframe tbody tr th:only-of-type {\n",
       "        vertical-align: middle;\n",
       "    }\n",
       "\n",
       "    .dataframe tbody tr th {\n",
       "        vertical-align: top;\n",
       "    }\n",
       "\n",
       "    .dataframe thead th {\n",
       "        text-align: right;\n",
       "    }\n",
       "</style>\n",
       "<table border=\"1\" class=\"dataframe\">\n",
       "  <thead>\n",
       "    <tr style=\"text-align: right;\">\n",
       "      <th></th>\n",
       "      <th>id</th>\n",
       "      <th>title</th>\n",
       "      <th>overview</th>\n",
       "      <th>dist</th>\n",
       "    </tr>\n",
       "  </thead>\n",
       "  <tbody>\n",
       "    <tr>\n",
       "      <th>442981</th>\n",
       "      <td>10</td>\n",
       "      <td>A Lifelong Passion: Nicholas and Alexandra</td>\n",
       "      <td>Nicholas</td>\n",
       "      <td>679127.939310</td>\n",
       "    </tr>\n",
       "    <tr>\n",
       "      <th>442976</th>\n",
       "      <td>10</td>\n",
       "      <td>A Lifelong Passion: Nicholas and Alexandra</td>\n",
       "      <td>Nicholas</td>\n",
       "      <td>679127.939310</td>\n",
       "    </tr>\n",
       "    <tr>\n",
       "      <th>442980</th>\n",
       "      <td>10</td>\n",
       "      <td>A Lifelong Passion: Nicholas and Alexandra</td>\n",
       "      <td>Nicholas</td>\n",
       "      <td>679127.939310</td>\n",
       "    </tr>\n",
       "    <tr>\n",
       "      <th>442979</th>\n",
       "      <td>10</td>\n",
       "      <td>A Lifelong Passion: Nicholas and Alexandra</td>\n",
       "      <td>Nicholas</td>\n",
       "      <td>679127.939310</td>\n",
       "    </tr>\n",
       "    <tr>\n",
       "      <th>442978</th>\n",
       "      <td>10</td>\n",
       "      <td>A Lifelong Passion: Nicholas and Alexandra</td>\n",
       "      <td>Nicholas</td>\n",
       "      <td>679127.939310</td>\n",
       "    </tr>\n",
       "    <tr>\n",
       "      <th>442977</th>\n",
       "      <td>10</td>\n",
       "      <td>A Lifelong Passion: Nicholas and Alexandra</td>\n",
       "      <td>Nicholas</td>\n",
       "      <td>679127.939310</td>\n",
       "    </tr>\n",
       "    <tr>\n",
       "      <th>328753</th>\n",
       "      <td>6</td>\n",
       "      <td>The Discovery of Animal Behaviour</td>\n",
       "      <td>John Sparks</td>\n",
       "      <td>617606.995898</td>\n",
       "    </tr>\n",
       "    <tr>\n",
       "      <th>623204</th>\n",
       "      <td>9</td>\n",
       "      <td>The Last of the Cockleshell Heroes: A World Wa...</td>\n",
       "      <td>William Sparks</td>\n",
       "      <td>570049.319484</td>\n",
       "    </tr>\n",
       "    <tr>\n",
       "      <th>822969</th>\n",
       "      <td>7</td>\n",
       "      <td>The Next Archaeology Workbook</td>\n",
       "      <td>Nicholas David</td>\n",
       "      <td>526087.742446</td>\n",
       "    </tr>\n",
       "    <tr>\n",
       "      <th>516949</th>\n",
       "      <td>9</td>\n",
       "      <td>Cook: The Extraordinary Voyages of Captain Jam...</td>\n",
       "      <td>Nicholas Thomas</td>\n",
       "      <td>496039.823116</td>\n",
       "    </tr>\n",
       "    <tr>\n",
       "      <th>589733</th>\n",
       "      <td>10</td>\n",
       "      <td>The Elephant Man</td>\n",
       "      <td>Christine Sparks</td>\n",
       "      <td>485967.020337</td>\n",
       "    </tr>\n",
       "    <tr>\n",
       "      <th>852180</th>\n",
       "      <td>7</td>\n",
       "      <td>Elephant Man</td>\n",
       "      <td>Christine Sparks</td>\n",
       "      <td>485967.020337</td>\n",
       "    </tr>\n",
       "    <tr>\n",
       "      <th>589732</th>\n",
       "      <td>10</td>\n",
       "      <td>The Elephant Man</td>\n",
       "      <td>Christine Sparks</td>\n",
       "      <td>485967.020337</td>\n",
       "    </tr>\n",
       "    <tr>\n",
       "      <th>281592</th>\n",
       "      <td>7</td>\n",
       "      <td>Veronica</td>\n",
       "      <td>Nicholas Christopher</td>\n",
       "      <td>475879.754871</td>\n",
       "    </tr>\n",
       "    <tr>\n",
       "      <th>390227</th>\n",
       "      <td>9</td>\n",
       "      <td>Veronica: A Novel</td>\n",
       "      <td>Nicholas Christopher</td>\n",
       "      <td>475879.754871</td>\n",
       "    </tr>\n",
       "  </tbody>\n",
       "</table>\n",
       "</div>"
      ],
      "text/plain": [
       "        id                                              title  \\\n",
       "442981  10         A Lifelong Passion: Nicholas and Alexandra   \n",
       "442976  10         A Lifelong Passion: Nicholas and Alexandra   \n",
       "442980  10         A Lifelong Passion: Nicholas and Alexandra   \n",
       "442979  10         A Lifelong Passion: Nicholas and Alexandra   \n",
       "442978  10         A Lifelong Passion: Nicholas and Alexandra   \n",
       "442977  10         A Lifelong Passion: Nicholas and Alexandra   \n",
       "328753   6                  The Discovery of Animal Behaviour   \n",
       "623204   9  The Last of the Cockleshell Heroes: A World Wa...   \n",
       "822969   7                      The Next Archaeology Workbook   \n",
       "516949   9  Cook: The Extraordinary Voyages of Captain Jam...   \n",
       "589733  10                                   The Elephant Man   \n",
       "852180   7                                       Elephant Man   \n",
       "589732  10                                   The Elephant Man   \n",
       "281592   7                                           Veronica   \n",
       "390227   9                                  Veronica: A Novel   \n",
       "\n",
       "                    overview           dist  \n",
       "442981              Nicholas  679127.939310  \n",
       "442976              Nicholas  679127.939310  \n",
       "442980              Nicholas  679127.939310  \n",
       "442979              Nicholas  679127.939310  \n",
       "442978              Nicholas  679127.939310  \n",
       "442977              Nicholas  679127.939310  \n",
       "328753           John Sparks  617606.995898  \n",
       "623204        William Sparks  570049.319484  \n",
       "822969        Nicholas David  526087.742446  \n",
       "516949       Nicholas Thomas  496039.823116  \n",
       "589733      Christine Sparks  485967.020337  \n",
       "852180      Christine Sparks  485967.020337  \n",
       "589732      Christine Sparks  485967.020337  \n",
       "281592  Nicholas Christopher  475879.754871  \n",
       "390227  Nicholas Christopher  475879.754871  "
      ]
     },
     "execution_count": 24,
     "metadata": {},
     "output_type": "execute_result"
    }
   ],
   "source": [
    "skr1 = SimpleKNNRecommender(author_matrix, rating, title, author)\n",
    "rec1 = skr1.recommend_for_single_object(15, sparks_matrix)\n",
    "rec1"
   ]
  },
  {
   "cell_type": "code",
   "execution_count": 25,
   "metadata": {
    "colab": {
     "base_uri": "https://localhost:8080/",
     "height": 509
    },
    "id": "hGwxIwSiiMJY",
    "outputId": "a6fc61e0-3a8f-49c1-caea-ca3e3fc83f37"
   },
   "outputs": [
    {
     "data": {
      "text/html": [
       "<div>\n",
       "<style scoped>\n",
       "    .dataframe tbody tr th:only-of-type {\n",
       "        vertical-align: middle;\n",
       "    }\n",
       "\n",
       "    .dataframe tbody tr th {\n",
       "        vertical-align: top;\n",
       "    }\n",
       "\n",
       "    .dataframe thead th {\n",
       "        text-align: right;\n",
       "    }\n",
       "</style>\n",
       "<table border=\"1\" class=\"dataframe\">\n",
       "  <thead>\n",
       "    <tr style=\"text-align: right;\">\n",
       "      <th></th>\n",
       "      <th>id</th>\n",
       "      <th>title</th>\n",
       "      <th>overview</th>\n",
       "      <th>dist</th>\n",
       "    </tr>\n",
       "  </thead>\n",
       "  <tbody>\n",
       "    <tr>\n",
       "      <th>442979</th>\n",
       "      <td>10</td>\n",
       "      <td>A Lifelong Passion: Nicholas and Alexandra</td>\n",
       "      <td>Nicholas</td>\n",
       "      <td>801089.334207</td>\n",
       "    </tr>\n",
       "    <tr>\n",
       "      <th>442976</th>\n",
       "      <td>10</td>\n",
       "      <td>A Lifelong Passion: Nicholas and Alexandra</td>\n",
       "      <td>Nicholas</td>\n",
       "      <td>801089.334207</td>\n",
       "    </tr>\n",
       "    <tr>\n",
       "      <th>442978</th>\n",
       "      <td>10</td>\n",
       "      <td>A Lifelong Passion: Nicholas and Alexandra</td>\n",
       "      <td>Nicholas</td>\n",
       "      <td>801089.334207</td>\n",
       "    </tr>\n",
       "    <tr>\n",
       "      <th>442977</th>\n",
       "      <td>10</td>\n",
       "      <td>A Lifelong Passion: Nicholas and Alexandra</td>\n",
       "      <td>Nicholas</td>\n",
       "      <td>801089.334207</td>\n",
       "    </tr>\n",
       "    <tr>\n",
       "      <th>442980</th>\n",
       "      <td>10</td>\n",
       "      <td>A Lifelong Passion: Nicholas and Alexandra</td>\n",
       "      <td>Nicholas</td>\n",
       "      <td>801089.334207</td>\n",
       "    </tr>\n",
       "    <tr>\n",
       "      <th>442981</th>\n",
       "      <td>10</td>\n",
       "      <td>A Lifelong Passion: Nicholas and Alexandra</td>\n",
       "      <td>Nicholas</td>\n",
       "      <td>801089.334207</td>\n",
       "    </tr>\n",
       "    <tr>\n",
       "      <th>328753</th>\n",
       "      <td>6</td>\n",
       "      <td>The Discovery of Animal Behaviour</td>\n",
       "      <td>John Sparks</td>\n",
       "      <td>874520.444703</td>\n",
       "    </tr>\n",
       "    <tr>\n",
       "      <th>623204</th>\n",
       "      <td>9</td>\n",
       "      <td>The Last of the Cockleshell Heroes: A World Wa...</td>\n",
       "      <td>William Sparks</td>\n",
       "      <td>927308.665457</td>\n",
       "    </tr>\n",
       "    <tr>\n",
       "      <th>822969</th>\n",
       "      <td>7</td>\n",
       "      <td>The Next Archaeology Workbook</td>\n",
       "      <td>Nicholas David</td>\n",
       "      <td>973562.794640</td>\n",
       "    </tr>\n",
       "    <tr>\n",
       "      <th>456109</th>\n",
       "      <td>8</td>\n",
       "      <td>The Sensuous Woman</td>\n",
       "      <td>J</td>\n",
       "      <td>1000000.000000</td>\n",
       "    </tr>\n",
       "    <tr>\n",
       "      <th>814693</th>\n",
       "      <td>6</td>\n",
       "      <td>The Power of Five (W.I.T.C.H., 1)</td>\n",
       "      <td>W.i.t.c.h.</td>\n",
       "      <td>1000000.000000</td>\n",
       "    </tr>\n",
       "    <tr>\n",
       "      <th>814692</th>\n",
       "      <td>8</td>\n",
       "      <td>The Power of Five (W.I.T.C.H., 1)</td>\n",
       "      <td>W.i.t.c.h.</td>\n",
       "      <td>1000000.000000</td>\n",
       "    </tr>\n",
       "    <tr>\n",
       "      <th>578909</th>\n",
       "      <td>7</td>\n",
       "      <td>Quilting with the Muppets: 15 Fun and Creative...</td>\n",
       "      <td>N</td>\n",
       "      <td>1000000.000000</td>\n",
       "    </tr>\n",
       "    <tr>\n",
       "      <th>814691</th>\n",
       "      <td>8</td>\n",
       "      <td>W.I.T.C.H. Chapter Book: The Four Dragons - Bo...</td>\n",
       "      <td>W.i.t.c.h.</td>\n",
       "      <td>1000000.000000</td>\n",
       "    </tr>\n",
       "    <tr>\n",
       "      <th>765435</th>\n",
       "      <td>10</td>\n",
       "      <td>Getting Even: Making O</td>\n",
       "      <td>X</td>\n",
       "      <td>1000000.000000</td>\n",
       "    </tr>\n",
       "  </tbody>\n",
       "</table>\n",
       "</div>"
      ],
      "text/plain": [
       "        id                                              title        overview  \\\n",
       "442979  10         A Lifelong Passion: Nicholas and Alexandra        Nicholas   \n",
       "442976  10         A Lifelong Passion: Nicholas and Alexandra        Nicholas   \n",
       "442978  10         A Lifelong Passion: Nicholas and Alexandra        Nicholas   \n",
       "442977  10         A Lifelong Passion: Nicholas and Alexandra        Nicholas   \n",
       "442980  10         A Lifelong Passion: Nicholas and Alexandra        Nicholas   \n",
       "442981  10         A Lifelong Passion: Nicholas and Alexandra        Nicholas   \n",
       "328753   6                  The Discovery of Animal Behaviour     John Sparks   \n",
       "623204   9  The Last of the Cockleshell Heroes: A World Wa...  William Sparks   \n",
       "822969   7                      The Next Archaeology Workbook  Nicholas David   \n",
       "456109   8                                 The Sensuous Woman               J   \n",
       "814693   6                  The Power of Five (W.I.T.C.H., 1)      W.i.t.c.h.   \n",
       "814692   8                  The Power of Five (W.I.T.C.H., 1)      W.i.t.c.h.   \n",
       "578909   7  Quilting with the Muppets: 15 Fun and Creative...               N   \n",
       "814691   8  W.I.T.C.H. Chapter Book: The Four Dragons - Bo...      W.i.t.c.h.   \n",
       "765435  10                             Getting Even: Making O               X   \n",
       "\n",
       "                  dist  \n",
       "442979   801089.334207  \n",
       "442976   801089.334207  \n",
       "442978   801089.334207  \n",
       "442977   801089.334207  \n",
       "442980   801089.334207  \n",
       "442981   801089.334207  \n",
       "328753   874520.444703  \n",
       "623204   927308.665457  \n",
       "822969   973562.794640  \n",
       "456109  1000000.000000  \n",
       "814693  1000000.000000  \n",
       "814692  1000000.000000  \n",
       "578909  1000000.000000  \n",
       "814691  1000000.000000  \n",
       "765435  1000000.000000  "
      ]
     },
     "execution_count": 25,
     "metadata": {},
     "output_type": "execute_result"
    }
   ],
   "source": [
    "rec2 = skr1.recommend_for_single_object(15, sparks_matrix, cos_flag = False)\n",
    "rec2"
   ]
  },
  {
   "cell_type": "markdown",
   "metadata": {
    "id": "vvIvgjumkPik"
   },
   "source": [
    "Метод на основе сингулярного разложения"
   ]
  },
  {
   "cell_type": "code",
   "execution_count": 26,
   "metadata": {
    "id": "qg2rareYkwLt"
   },
   "outputs": [],
   "source": [
    "def create_utility_matrix(data):\n",
    "    itemField = 'Book-Title'\n",
    "    userField = 'User-ID'\n",
    "    valueField = 'Book-Rating'  \n",
    "    \n",
    "    userList = data[userField].tolist()\n",
    "    itemList = data[itemField].tolist()\n",
    "    valueList = data[valueField].tolist()    \n",
    "    \n",
    "    users = list(set(userList))\n",
    "    items = list(set(itemList))    \n",
    "    \n",
    "    users_index = {users[i]: i for i in range(len(users))}    \n",
    "    pd_dict = {item: [0.0 for i in range(len(users))] for item in items}    \n",
    "    \n",
    "    for i in range(0,data.shape[0]):\n",
    "        item = itemList[i]\n",
    "        user = userList[i]\n",
    "        value = valueList[i]    \n",
    "        pd_dict[item][users_index[user]] = value    \n",
    "    \n",
    "    X = pd.DataFrame(pd_dict)\n",
    "    X.index = users\n",
    "        \n",
    "    itemcols = list(X.columns)\n",
    "    items_index = {itemcols[i]: i for i in range(len(itemcols))}\n",
    "    \n",
    "    return X, users_index, items_index"
   ]
  },
  {
   "cell_type": "code",
   "execution_count": 27,
   "metadata": {
    "id": "a8a3IN8dmquX"
   },
   "outputs": [],
   "source": [
    "mini_df = df[0:500]"
   ]
  },
  {
   "cell_type": "code",
   "execution_count": 28,
   "metadata": {
    "colab": {
     "base_uri": "https://localhost:8080/"
    },
    "id": "c2euJhPXlIru",
    "outputId": "85454378-d38b-4570-f83b-9ae06c825752"
   },
   "outputs": [
    {
     "name": "stdout",
     "output_type": "stream",
     "text": [
      "CPU times: user 2.21 ms, sys: 133 µs, total: 2.35 ms\n",
      "Wall time: 2.32 ms\n"
     ]
    }
   ],
   "source": [
    "%%time\n",
    "user_item_matrix, users_index, items_index = create_utility_matrix(mini_df)"
   ]
  },
  {
   "cell_type": "code",
   "execution_count": 29,
   "metadata": {
    "colab": {
     "base_uri": "https://localhost:8080/",
     "height": 433
    },
    "id": "3Yf6NuGioDi_",
    "outputId": "b5b493f2-a731-48ad-a612-0820ac2e5a4b"
   },
   "outputs": [
    {
     "data": {
      "text/html": [
       "<div>\n",
       "<style scoped>\n",
       "    .dataframe tbody tr th:only-of-type {\n",
       "        vertical-align: middle;\n",
       "    }\n",
       "\n",
       "    .dataframe tbody tr th {\n",
       "        vertical-align: top;\n",
       "    }\n",
       "\n",
       "    .dataframe thead th {\n",
       "        text-align: right;\n",
       "    }\n",
       "</style>\n",
       "<table border=\"1\" class=\"dataframe\">\n",
       "  <thead>\n",
       "    <tr style=\"text-align: right;\">\n",
       "      <th></th>\n",
       "      <th>Lightning</th>\n",
       "      <th>A Painted House</th>\n",
       "      <th>The Amsterdam Connection : Level 4 (Cambridge English Readers)</th>\n",
       "      <th>Manhattan Hunt Club</th>\n",
       "      <th>Flesh Tones: A Novel</th>\n",
       "      <th>The Notebook</th>\n",
       "      <th>Les Particules Elementaires</th>\n",
       "    </tr>\n",
       "  </thead>\n",
       "  <tbody>\n",
       "    <tr>\n",
       "      <th>63507</th>\n",
       "      <td>0.0</td>\n",
       "      <td>0.0</td>\n",
       "      <td>0.0</td>\n",
       "      <td>0.0</td>\n",
       "      <td>0.0</td>\n",
       "      <td>8.0</td>\n",
       "      <td>0.0</td>\n",
       "    </tr>\n",
       "    <tr>\n",
       "      <th>92184</th>\n",
       "      <td>0.0</td>\n",
       "      <td>8.0</td>\n",
       "      <td>0.0</td>\n",
       "      <td>0.0</td>\n",
       "      <td>0.0</td>\n",
       "      <td>0.0</td>\n",
       "      <td>0.0</td>\n",
       "    </tr>\n",
       "    <tr>\n",
       "      <th>235560</th>\n",
       "      <td>9.0</td>\n",
       "      <td>0.0</td>\n",
       "      <td>0.0</td>\n",
       "      <td>0.0</td>\n",
       "      <td>0.0</td>\n",
       "      <td>0.0</td>\n",
       "      <td>0.0</td>\n",
       "    </tr>\n",
       "    <tr>\n",
       "      <th>8234</th>\n",
       "      <td>0.0</td>\n",
       "      <td>7.0</td>\n",
       "      <td>0.0</td>\n",
       "      <td>0.0</td>\n",
       "      <td>0.0</td>\n",
       "      <td>0.0</td>\n",
       "      <td>0.0</td>\n",
       "    </tr>\n",
       "    <tr>\n",
       "      <th>145451</th>\n",
       "      <td>0.0</td>\n",
       "      <td>0.0</td>\n",
       "      <td>0.0</td>\n",
       "      <td>0.0</td>\n",
       "      <td>7.0</td>\n",
       "      <td>0.0</td>\n",
       "      <td>0.0</td>\n",
       "    </tr>\n",
       "    <tr>\n",
       "      <th>...</th>\n",
       "      <td>...</td>\n",
       "      <td>...</td>\n",
       "      <td>...</td>\n",
       "      <td>...</td>\n",
       "      <td>...</td>\n",
       "      <td>...</td>\n",
       "      <td>...</td>\n",
       "    </tr>\n",
       "    <tr>\n",
       "      <th>161765</th>\n",
       "      <td>0.0</td>\n",
       "      <td>0.0</td>\n",
       "      <td>0.0</td>\n",
       "      <td>9.0</td>\n",
       "      <td>0.0</td>\n",
       "      <td>0.0</td>\n",
       "      <td>0.0</td>\n",
       "    </tr>\n",
       "    <tr>\n",
       "      <th>135149</th>\n",
       "      <td>9.0</td>\n",
       "      <td>0.0</td>\n",
       "      <td>0.0</td>\n",
       "      <td>0.0</td>\n",
       "      <td>0.0</td>\n",
       "      <td>0.0</td>\n",
       "      <td>0.0</td>\n",
       "    </tr>\n",
       "    <tr>\n",
       "      <th>20462</th>\n",
       "      <td>8.0</td>\n",
       "      <td>0.0</td>\n",
       "      <td>0.0</td>\n",
       "      <td>0.0</td>\n",
       "      <td>0.0</td>\n",
       "      <td>0.0</td>\n",
       "      <td>0.0</td>\n",
       "    </tr>\n",
       "    <tr>\n",
       "      <th>30711</th>\n",
       "      <td>0.0</td>\n",
       "      <td>0.0</td>\n",
       "      <td>0.0</td>\n",
       "      <td>0.0</td>\n",
       "      <td>0.0</td>\n",
       "      <td>6.0</td>\n",
       "      <td>0.0</td>\n",
       "    </tr>\n",
       "    <tr>\n",
       "      <th>172030</th>\n",
       "      <td>8.0</td>\n",
       "      <td>0.0</td>\n",
       "      <td>0.0</td>\n",
       "      <td>0.0</td>\n",
       "      <td>0.0</td>\n",
       "      <td>0.0</td>\n",
       "      <td>0.0</td>\n",
       "    </tr>\n",
       "  </tbody>\n",
       "</table>\n",
       "<p>470 rows × 7 columns</p>\n",
       "</div>"
      ],
      "text/plain": [
       "        Lightning  A Painted House  \\\n",
       "63507         0.0              0.0   \n",
       "92184         0.0              8.0   \n",
       "235560        9.0              0.0   \n",
       "8234          0.0              7.0   \n",
       "145451        0.0              0.0   \n",
       "...           ...              ...   \n",
       "161765        0.0              0.0   \n",
       "135149        9.0              0.0   \n",
       "20462         8.0              0.0   \n",
       "30711         0.0              0.0   \n",
       "172030        8.0              0.0   \n",
       "\n",
       "        The Amsterdam Connection : Level 4 (Cambridge English Readers)  \\\n",
       "63507                                                 0.0                \n",
       "92184                                                 0.0                \n",
       "235560                                                0.0                \n",
       "8234                                                  0.0                \n",
       "145451                                                0.0                \n",
       "...                                                   ...                \n",
       "161765                                                0.0                \n",
       "135149                                                0.0                \n",
       "20462                                                 0.0                \n",
       "30711                                                 0.0                \n",
       "172030                                                0.0                \n",
       "\n",
       "        Manhattan Hunt Club  Flesh Tones: A Novel  The Notebook  \\\n",
       "63507                   0.0                   0.0           8.0   \n",
       "92184                   0.0                   0.0           0.0   \n",
       "235560                  0.0                   0.0           0.0   \n",
       "8234                    0.0                   0.0           0.0   \n",
       "145451                  0.0                   7.0           0.0   \n",
       "...                     ...                   ...           ...   \n",
       "161765                  9.0                   0.0           0.0   \n",
       "135149                  0.0                   0.0           0.0   \n",
       "20462                   0.0                   0.0           0.0   \n",
       "30711                   0.0                   0.0           6.0   \n",
       "172030                  0.0                   0.0           0.0   \n",
       "\n",
       "        Les Particules Elementaires  \n",
       "63507                           0.0  \n",
       "92184                           0.0  \n",
       "235560                          0.0  \n",
       "8234                            0.0  \n",
       "145451                          0.0  \n",
       "...                             ...  \n",
       "161765                          0.0  \n",
       "135149                          0.0  \n",
       "20462                           0.0  \n",
       "30711                           0.0  \n",
       "172030                          0.0  \n",
       "\n",
       "[470 rows x 7 columns]"
      ]
     },
     "execution_count": 29,
     "metadata": {},
     "output_type": "execute_result"
    }
   ],
   "source": [
    "user_item_matrix"
   ]
  },
  {
   "cell_type": "code",
   "execution_count": 30,
   "metadata": {
    "id": "MPuqOtF3mV00"
   },
   "outputs": [],
   "source": [
    "user_item_matrix__test = user_item_matrix.iloc[469]\n",
    "user_item_matrix__train = user_item_matrix.iloc[:470]"
   ]
  },
  {
   "cell_type": "code",
   "execution_count": 31,
   "metadata": {
    "colab": {
     "base_uri": "https://localhost:8080/"
    },
    "id": "oUVijrhJmhIU",
    "outputId": "be9d24f5-cb26-4227-8427-7772ff60b1ec"
   },
   "outputs": [
    {
     "name": "stdout",
     "output_type": "stream",
     "text": [
      "CPU times: user 4.41 ms, sys: 2.41 ms, total: 6.82 ms\n",
      "Wall time: 2.5 ms\n"
     ]
    }
   ],
   "source": [
    "%%time\n",
    "U, S, VT = np.linalg.svd(user_item_matrix__train.T)\n",
    "V = VT.T"
   ]
  },
  {
   "cell_type": "code",
   "execution_count": 32,
   "metadata": {
    "id": "d13vN3ECb6sg"
   },
   "outputs": [],
   "source": [
    "Sigma = np.diag(S)"
   ]
  },
  {
   "cell_type": "code",
   "execution_count": 33,
   "metadata": {
    "id": "roFalh6scAoU"
   },
   "outputs": [],
   "source": [
    "r=3\n",
    "Ur = U[:, :r]\n",
    "Sr = Sigma[:r, :r]\n",
    "Vr = V[:, :r]"
   ]
  },
  {
   "cell_type": "code",
   "execution_count": 34,
   "metadata": {
    "colab": {
     "base_uri": "https://localhost:8080/"
    },
    "id": "Kr0w0vBccDQm",
    "outputId": "1fe36a90-8c26-4e1b-9e6f-ef38502db88c"
   },
   "outputs": [
    {
     "data": {
      "text/plain": [
       "((1, 7), matrix([[8., 0., 0., 0., 0., 0., 0.]]))"
      ]
     },
     "execution_count": 34,
     "metadata": {},
     "output_type": "execute_result"
    }
   ],
   "source": [
    "test_user = np.mat(user_item_matrix__test.values)\n",
    "test_user.shape, test_user"
   ]
  },
  {
   "cell_type": "code",
   "execution_count": 35,
   "metadata": {
    "colab": {
     "base_uri": "https://localhost:8080/"
    },
    "id": "awNolK0rcEry",
    "outputId": "71e32673-9bd2-49ca-b09d-b72b868be774"
   },
   "outputs": [
    {
     "data": {
      "text/plain": [
       "matrix([[-0.013692  ,  0.07842731, -0.02007541]])"
      ]
     },
     "execution_count": 35,
     "metadata": {},
     "output_type": "execute_result"
    }
   ],
   "source": [
    "tmp = test_user * Ur * np.linalg.inv(Sr)\n",
    "tmp"
   ]
  },
  {
   "cell_type": "code",
   "execution_count": 36,
   "metadata": {
    "colab": {
     "base_uri": "https://localhost:8080/"
    },
    "id": "laOmTmUmcIV9",
    "outputId": "69ca0972-f0e1-4993-f3cd-a71cf73f1260"
   },
   "outputs": [
    {
     "data": {
      "text/plain": [
       "array([-0.013692  ,  0.07842731, -0.02007541])"
      ]
     },
     "execution_count": 36,
     "metadata": {},
     "output_type": "execute_result"
    }
   ],
   "source": [
    "test_user_result = np.array([tmp[0,0], tmp[0,1], tmp[0,2]])\n",
    "test_user_result"
   ]
  },
  {
   "cell_type": "code",
   "execution_count": 37,
   "metadata": {
    "colab": {
     "base_uri": "https://localhost:8080/"
    },
    "id": "ZZ6oErrtcJ60",
    "outputId": "21227594-c268-484c-f578-257cf4e7caac"
   },
   "outputs": [
    {
     "data": {
      "text/plain": [
       "array([[-0.05145611],\n",
       "       [-0.02704594],\n",
       "       [ 1.        ],\n",
       "       [-0.02704594],\n",
       "       [ 0.87936934],\n",
       "       [-0.02704594],\n",
       "       [ 1.        ],\n",
       "       [-0.02704594],\n",
       "       [ 1.        ],\n",
       "       [ 0.87936934]])"
      ]
     },
     "execution_count": 37,
     "metadata": {},
     "output_type": "execute_result"
    }
   ],
   "source": [
    "# Вычисляем косинусную близость между текущим пользователем \n",
    "# и остальными пользователями\n",
    "cos_sim = cosine_similarity(Vr, test_user_result.reshape(1, -1))\n",
    "cos_sim[:10]"
   ]
  },
  {
   "cell_type": "code",
   "execution_count": 38,
   "metadata": {
    "colab": {
     "base_uri": "https://localhost:8080/"
    },
    "id": "38bvgYxScMpV",
    "outputId": "b1f34f79-94f9-471d-fe3c-165030db864d"
   },
   "outputs": [
    {
     "data": {
      "text/plain": [
       "array([-0.05145611, -0.02704594,  1.        , -0.02704594,  0.87936934,\n",
       "       -0.02704594,  1.        , -0.02704594,  1.        ,  0.87936934])"
      ]
     },
     "execution_count": 38,
     "metadata": {},
     "output_type": "execute_result"
    }
   ],
   "source": [
    "# Преобразуем размерность массива\n",
    "cos_sim_list = cos_sim.reshape(-1, cos_sim.shape[0])[0]\n",
    "cos_sim_list[:10]"
   ]
  },
  {
   "cell_type": "code",
   "execution_count": 39,
   "metadata": {
    "colab": {
     "base_uri": "https://localhost:8080/"
    },
    "id": "55jgBtVEcQKU",
    "outputId": "8880ca69-3bfe-4d24-b863-206b091f2e89"
   },
   "outputs": [
    {
     "data": {
      "text/plain": [
       "392"
      ]
     },
     "execution_count": 39,
     "metadata": {},
     "output_type": "execute_result"
    }
   ],
   "source": [
    "# Находим наиболее близкого пользователя\n",
    "recommended_user_id = np.argsort(-cos_sim_list)[0]\n",
    "recommended_user_id"
   ]
  },
  {
   "cell_type": "code",
   "execution_count": 40,
   "metadata": {
    "id": "umaDgPmrcSQ9"
   },
   "outputs": [],
   "source": [
    "# Получение названия фильма\n",
    "userId_list = list(user_item_matrix.columns)\n",
    "def book_name_by_user(ind):\n",
    "    try:\n",
    "        userId = userId_list[ind]\n",
    "        flt_links = mini_df[mini_df['User-ID'] == userId]\n",
    "        #tmdbId = int(flt_links['tmdbId'].values[0])\n",
    "        #md_links = df_md[df_md['id'] == tmdbId]\n",
    "        res = mini_df['Book-Title'].values[0]\n",
    "        return res\n",
    "    except:\n",
    "        return '' "
   ]
  },
  {
   "cell_type": "code",
   "execution_count": 41,
   "metadata": {
    "colab": {
     "base_uri": "https://localhost:8080/"
    },
    "id": "KZ5K7I9hfj0s",
    "outputId": "cf60a291-712c-4cad-84d9-e66616521712"
   },
   "outputs": [
    {
     "name": "stdout",
     "output_type": "stream",
     "text": [
      "0 - Flesh Tones: A Novel - 8.0\n"
     ]
    }
   ],
   "source": [
    "i=1\n",
    "for idx, item in enumerate(np.ndarray.flatten(np.array(test_user))):\n",
    "    if item > 0:\n",
    "        book_title = book_name_by_user(idx)\n",
    "        print('{} - {} - {}'.format(idx, book_title, item))"
   ]
  }
 ],
 "metadata": {
  "colab": {
   "collapsed_sections": [],
   "name": "lab4_MMO.ipynb",
   "provenance": []
  },
  "kernelspec": {
   "display_name": "Python 3",
   "language": "python",
   "name": "python3"
  },
  "language_info": {
   "codemirror_mode": {
    "name": "ipython",
    "version": 3
   },
   "file_extension": ".py",
   "mimetype": "text/x-python",
   "name": "python",
   "nbconvert_exporter": "python",
   "pygments_lexer": "ipython3",
   "version": "3.7.9"
  }
 },
 "nbformat": 4,
 "nbformat_minor": 1
}
